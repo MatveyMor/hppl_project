{
 "cells": [
  {
   "cell_type": "markdown",
   "metadata": {
    "id": "PBTZ3Sk161eJ"
   },
   "source": [
    "# Евклидова задача коммивояжёра"
   ]
  },
  {
   "cell_type": "markdown",
   "metadata": {
    "id": "LZ-J9J-1ia6L"
   },
   "source": [
    "# Новый раздел"
   ]
  },
  {
   "cell_type": "code",
   "execution_count": 1,
   "metadata": {
    "id": "CrIKNMTi61eM"
   },
   "outputs": [],
   "source": [
    "import numpy as np\n",
    "import scipy.stats as sps\n",
    "import matplotlib.pyplot as plt\n",
    "import random\n",
    "from tqdm import tqdm\n",
    "\n",
    "from time import time"
   ]
  },
  {
   "cell_type": "code",
   "execution_count": 2,
   "metadata": {
    "id": "pQtEVd1c7P4f"
   },
   "outputs": [],
   "source": [
    "import cupy as cp"
   ]
  },
  {
   "cell_type": "code",
   "execution_count": 3,
   "metadata": {
    "id": "PwcaJnf261eP"
   },
   "outputs": [],
   "source": [
    "def swapMutate(population,  n):\n",
    "    \"\"\"\n",
    "    функция высчитывания мутаций у популяции:\n",
    "    меняет два рандомных элемента у каких-то \n",
    "    представителей популяции\n",
    "    population - соответственно популяция\n",
    "    n - количество мутаций в популяции\n",
    "    \"\"\"\n",
    "    \n",
    "    indices = sps.randint(0, population.shape[0]).rvs(size=n)\n",
    "    mutations = cp.copy(population[indices])\n",
    "    for i in range(n):\n",
    "        index1, index2 = sps.randint(0,population.shape[1]).rvs(2)\n",
    "        mutations[i, index1], mutations[i, index2] = \\\n",
    "        mutations[i, index2], mutations[i, index1]\n",
    "    return mutations   \n",
    "\n",
    "\n",
    "def invMutate(population, n):\n",
    "    \"\"\"\n",
    "    Inversion Mutation\n",
    "    \"\"\"\n",
    "    indices = sps.randint(0, population.shape[0]).rvs(size=n)\n",
    "    mutations = cp.copy(population[indices])\n",
    "    for i in range(n):\n",
    "        index1, index2 = sps.randint(1,population.shape[1]).rvs(2)\n",
    "        mutations[i, index1: index2+1] = mutations[i, index2: index1-1:-1]\n",
    "    return mutations    "
   ]
  },
  {
   "cell_type": "code",
   "execution_count": 4,
   "metadata": {
    "id": "wo7OrXRW61eQ"
   },
   "outputs": [],
   "source": [
    "def PMX(specimen1, specimen2):\n",
    "    \"\"\"\n",
    "    Partitially-Mapped Crossover\n",
    "    \"\"\"\n",
    "    index1, index2 = cp.sort(sps.randint(0, len(specimen1)).rvs(size=2))\n",
    "    offspring = cp.ones(len(specimen1))*-1\n",
    "    offspring[index1 : index2 + 1] = specimen1[index1 : index2 + 1]\n",
    "    k = 0\n",
    "    for el in specimen2:\n",
    "        if (k == index1):\n",
    "            k = index2 + 1\n",
    "        if (el not in specimen1[index1 : index2 + 1]):\n",
    "            offspring[k] = el\n",
    "            k += 1\n",
    "    return offspring\n",
    "\n",
    "\n",
    "def CX(specimen1, specimen2):\n",
    "    \"\"\"\n",
    "    Cycle Crossover\n",
    "    \"\"\"\n",
    "    argparent1 = cp.argsort(specimen1)\n",
    "    argparent2 = cp.argsort(specimen2) #индексы отсорт. массива 2\n",
    "    \n",
    "    offspring = cp.ones(len(specimen1))*-1\n",
    "    offspring = offspring.astype(cupy.int)\n",
    "    offspring[0] = specimen1[0]\n",
    "    ind = 0\n",
    "    curr_argp = argparent2\n",
    "    curr_spec = specimen1\n",
    "    for i in range(len(offspring)-1):\n",
    "        ind = curr_argp[offspring[ind]]\n",
    "        if (offspring[ind] != -1):\n",
    "            ind  = cp.argmin(offspring)\n",
    "            if (cp.all(curr_spec==specimen1)):\n",
    "                curr_argp = argparent1\n",
    "                curr_spec = specimen2\n",
    "            else:\n",
    "                curr_argp = argparent2\n",
    "                curr_spec = specimen1\n",
    "        offspring[ind] = curr_spec[ind]        \n",
    "    return offspring\n",
    "\n",
    "\n",
    "#само скрещивание популяции   \n",
    "def getCrossover(population, func):\n",
    "    \"\"\"\n",
    "    скрещивание популяции - смена поколения\n",
    "    population - популяция\n",
    "    func - функция скрещивания\n",
    "    \"\"\"\n",
    "    m = population.shape[0] * (population.shape[0]+1) / 2\n",
    "    generation = cp.zeros((int(m), population.shape[1]))\n",
    "    k = 0\n",
    "    for i in range(population.shape[0]):\n",
    "        for j in range(i, population.shape[0]):\n",
    "            offspring = func(population[i], population[j])\n",
    "            generation[k] = offspring\n",
    "            k += 1\n",
    "    return generation"
   ]
  },
  {
   "cell_type": "code",
   "execution_count": 5,
   "metadata": {
    "id": "mwvGMcnj61eR"
   },
   "outputs": [],
   "source": [
    "def createPopulation(Graph, n):\n",
    "    \"\"\"\n",
    "    создание популяции путем\n",
    "    рандомного перемешивания \n",
    "    \n",
    "    n - размер популяции\n",
    "    \"\"\"\n",
    "    specimen = cp.arange(Graph.shape[0]) \n",
    "    population = cp.zeros((n, Graph.shape[0]))\n",
    "    for i in range(n):\n",
    "        arr = cp.copy(specimen)\n",
    "        cp.random.shuffle(arr)\n",
    "        population[i] = arr\n",
    "    return population\n",
    "\n",
    "#длина пути для какого-то представителя популяции\n",
    "def pathLength(Graph, specimen):\n",
    "    \"\"\"\n",
    "    считает длину цикла, соответствующего \n",
    "    массиву индексов specimen\n",
    "    последнее, замыкающее ребро цикла -\n",
    "    считается между последним и 1ым эл-ами массива\n",
    "    \n",
    "    specimen - массив индексов вершин графа - особь популяции\n",
    "    \"\"\"\n",
    "    length = 0\n",
    "    for i in range(Graph.shape[0]):\n",
    "        length += cp.linalg.norm(Graph[int(specimen[i])] - \\\n",
    "            Graph[int(specimen[(i + 1) % Graph.shape[0]])])\n",
    "    return length\n",
    "\n",
    "\n",
    "def sortPopulation(Graph, population):\n",
    "    \"\"\"\n",
    "    функция отбора - сортировка популяции  по длине цикла\n",
    "    \"\"\"\n",
    "    #key = lambda x:pathLength(Graph, x)\n",
    "    #lengths = [pathLength(Graph, population[i]) for i in range(len(population))]\n",
    "    #indexes = cupy.argsort(lengths)\n",
    "    #population = population[indexes]\n",
    "    return cp.array(sorted(population, key= lambda x:pathLength(Graph, x)))\n",
    "    \n",
    "\n",
    "#сам генетический алгоритм    \n",
    "def Genetic(Graph, iter_count, popul_count, mutate_count=-1, mutate_func=swapMutate, cross_func=PMX):\n",
    "    \"\"\"\n",
    "    Генетический алогритм\n",
    "    Graph - граф в виде массива точек на плоскости\n",
    "    iter_count - количество итераций\n",
    "    popul_count - размер популяции\n",
    "    mutate_count - количество мутаций\n",
    "    mutate_func - функция мутации\n",
    "    cross_func - функция скрещивания\n",
    "    выводит массив индексов - \"лучшую\" особь популяции\n",
    "    \"\"\"\n",
    "    population = createPopulation(Graph, popul_count)\n",
    "    \n",
    "    if (mutate_count == -1):\n",
    "        mutate_count = int(popul_count / 4)\n",
    "    \n",
    "    for i in tqdm(range(iter_count)):\n",
    "        mutations = mutate_func(population, mutate_count)\n",
    "        offsprings = getCrossover(population, cross_func)\n",
    "\n",
    "        population = cp.vstack((population, mutations, offsprings))\n",
    "        population = sortPopulation(Graph, population)[:popul_count]\n",
    "\n",
    "    return population[0]       "
   ]
  },
  {
   "cell_type": "code",
   "execution_count": 6,
   "metadata": {
    "id": "dl0-3FuF61eS"
   },
   "outputs": [],
   "source": [
    "def getRandomGraph(N):\n",
    "    \"\"\"\n",
    "    генерирует произвольный граф размера N\n",
    "    каждая координата генерируется из равномерного\n",
    "    распеделения на отрезке [0, N]\n",
    "    \"\"\"\n",
    "    Graph = list()\n",
    "\n",
    "    for i in range(N):\n",
    "        Graph.append([sps.uniform(0, N).rvs(), sps.uniform(0, N).rvs()])\n",
    "    return cp.array(Graph)\n",
    "\n",
    "\n",
    "def getCycleIndices(indices):\n",
    "    \"\"\"\n",
    "    возвращает \"зацикленный\" массив индексов -\n",
    "    для удобства вывода на график\n",
    "    \"\"\"\n",
    "    new_indices = cp.ones(len(indices) + 1)\n",
    "    new_indices[:len(indices)] = indices\n",
    "    new_indices[-1] = indices[0]\n",
    "    return new_indices.get().astype(int)"
   ]
  },
  {
   "cell_type": "code",
   "execution_count": 9,
   "metadata": {
    "colab": {
     "base_uri": "https://localhost:8080/",
     "height": 648
    },
    "id": "k7r-M4cF61eT",
    "outputId": "de37355e-d9ee-4088-e46b-a2c5e9ed91b0"
   },
   "outputs": [
    {
     "name": "stderr",
     "output_type": "stream",
     "text": [
      "100%|██████████| 100/100 [01:15<00:00,  1.32it/s]\n",
      "100%|██████████| 100/100 [04:57<00:00,  2.97s/it]\n",
      "100%|██████████| 100/100 [11:25<00:00,  6.86s/it]\n",
      "100%|██████████| 100/100 [20:08<00:00, 12.08s/it]\n",
      "100%|██████████| 100/100 [31:28<00:00, 18.88s/it]\n",
      "100%|██████████| 100/100 [45:14<00:00, 27.14s/it]\n",
      "  8%|▊         | 8/100 [05:01<57:58, 37.81s/it]"
     ]
    },
    {
     "ename": "KeyboardInterrupt",
     "evalue": "ignored",
     "output_type": "error",
     "traceback": [
      "\u001b[0;31m---------------------------------------------------------------------------\u001b[0m",
      "\u001b[0;31mKeyboardInterrupt\u001b[0m                         Traceback (most recent call last)",
      "\u001b[0;32m<ipython-input-9-5fabc405464d>\u001b[0m in \u001b[0;36m<module>\u001b[0;34m()\u001b[0m\n\u001b[1;32m      7\u001b[0m     \u001b[0mGraph\u001b[0m \u001b[0;34m=\u001b[0m \u001b[0mgetRandomGraph\u001b[0m\u001b[0;34m(\u001b[0m\u001b[0mgraph_size\u001b[0m\u001b[0;34m)\u001b[0m\u001b[0;34m\u001b[0m\u001b[0;34m\u001b[0m\u001b[0m\n\u001b[1;32m      8\u001b[0m     \u001b[0mtime_start\u001b[0m \u001b[0;34m=\u001b[0m \u001b[0mtime\u001b[0m\u001b[0;34m(\u001b[0m\u001b[0;34m)\u001b[0m\u001b[0;34m\u001b[0m\u001b[0;34m\u001b[0m\u001b[0m\n\u001b[0;32m----> 9\u001b[0;31m     \u001b[0mindexes\u001b[0m \u001b[0;34m=\u001b[0m \u001b[0mgetCycleIndices\u001b[0m\u001b[0;34m(\u001b[0m\u001b[0mGenetic\u001b[0m\u001b[0;34m(\u001b[0m\u001b[0mGraph\u001b[0m\u001b[0;34m,\u001b[0m \u001b[0miter_count\u001b[0m\u001b[0;34m,\u001b[0m \u001b[0mpopul_count\u001b[0m\u001b[0;34m)\u001b[0m\u001b[0;34m)\u001b[0m\u001b[0;34m\u001b[0m\u001b[0;34m\u001b[0m\u001b[0m\n\u001b[0m\u001b[1;32m     10\u001b[0m     \u001b[0mtime_end\u001b[0m \u001b[0;34m=\u001b[0m \u001b[0mtime\u001b[0m\u001b[0;34m(\u001b[0m\u001b[0;34m)\u001b[0m\u001b[0;34m\u001b[0m\u001b[0;34m\u001b[0m\u001b[0m\n\u001b[1;32m     11\u001b[0m     \u001b[0mtimes_cupy\u001b[0m\u001b[0;34m[\u001b[0m\u001b[0mk\u001b[0m\u001b[0;34m]\u001b[0m \u001b[0;34m=\u001b[0m \u001b[0mtime_end\u001b[0m \u001b[0;34m-\u001b[0m \u001b[0mtime_start\u001b[0m\u001b[0;34m\u001b[0m\u001b[0;34m\u001b[0m\u001b[0m\n",
      "\u001b[0;32m<ipython-input-5-b31146cf2704>\u001b[0m in \u001b[0;36mGenetic\u001b[0;34m(Graph, iter_count, popul_count, mutate_count, mutate_func, cross_func)\u001b[0m\n\u001b[1;32m     60\u001b[0m     \u001b[0;32mfor\u001b[0m \u001b[0mi\u001b[0m \u001b[0;32min\u001b[0m \u001b[0mtqdm\u001b[0m\u001b[0;34m(\u001b[0m\u001b[0mrange\u001b[0m\u001b[0;34m(\u001b[0m\u001b[0miter_count\u001b[0m\u001b[0;34m)\u001b[0m\u001b[0;34m)\u001b[0m\u001b[0;34m:\u001b[0m\u001b[0;34m\u001b[0m\u001b[0;34m\u001b[0m\u001b[0m\n\u001b[1;32m     61\u001b[0m         \u001b[0mmutations\u001b[0m \u001b[0;34m=\u001b[0m \u001b[0mmutate_func\u001b[0m\u001b[0;34m(\u001b[0m\u001b[0mpopulation\u001b[0m\u001b[0;34m,\u001b[0m \u001b[0mmutate_count\u001b[0m\u001b[0;34m)\u001b[0m\u001b[0;34m\u001b[0m\u001b[0;34m\u001b[0m\u001b[0m\n\u001b[0;32m---> 62\u001b[0;31m         \u001b[0moffsprings\u001b[0m \u001b[0;34m=\u001b[0m \u001b[0mgetCrossover\u001b[0m\u001b[0;34m(\u001b[0m\u001b[0mpopulation\u001b[0m\u001b[0;34m,\u001b[0m \u001b[0mcross_func\u001b[0m\u001b[0;34m)\u001b[0m\u001b[0;34m\u001b[0m\u001b[0;34m\u001b[0m\u001b[0m\n\u001b[0m\u001b[1;32m     63\u001b[0m \u001b[0;34m\u001b[0m\u001b[0m\n\u001b[1;32m     64\u001b[0m         \u001b[0mpopulation\u001b[0m \u001b[0;34m=\u001b[0m \u001b[0mcp\u001b[0m\u001b[0;34m.\u001b[0m\u001b[0mvstack\u001b[0m\u001b[0;34m(\u001b[0m\u001b[0;34m(\u001b[0m\u001b[0mpopulation\u001b[0m\u001b[0;34m,\u001b[0m \u001b[0mmutations\u001b[0m\u001b[0;34m,\u001b[0m \u001b[0moffsprings\u001b[0m\u001b[0;34m)\u001b[0m\u001b[0;34m)\u001b[0m\u001b[0;34m\u001b[0m\u001b[0;34m\u001b[0m\u001b[0m\n",
      "\u001b[0;32m<ipython-input-4-2287ade8a57d>\u001b[0m in \u001b[0;36mgetCrossover\u001b[0;34m(population, func)\u001b[0m\n\u001b[1;32m     59\u001b[0m     \u001b[0;32mfor\u001b[0m \u001b[0mi\u001b[0m \u001b[0;32min\u001b[0m \u001b[0mrange\u001b[0m\u001b[0;34m(\u001b[0m\u001b[0mpopulation\u001b[0m\u001b[0;34m.\u001b[0m\u001b[0mshape\u001b[0m\u001b[0;34m[\u001b[0m\u001b[0;36m0\u001b[0m\u001b[0;34m]\u001b[0m\u001b[0;34m)\u001b[0m\u001b[0;34m:\u001b[0m\u001b[0;34m\u001b[0m\u001b[0;34m\u001b[0m\u001b[0m\n\u001b[1;32m     60\u001b[0m         \u001b[0;32mfor\u001b[0m \u001b[0mj\u001b[0m \u001b[0;32min\u001b[0m \u001b[0mrange\u001b[0m\u001b[0;34m(\u001b[0m\u001b[0mi\u001b[0m\u001b[0;34m,\u001b[0m \u001b[0mpopulation\u001b[0m\u001b[0;34m.\u001b[0m\u001b[0mshape\u001b[0m\u001b[0;34m[\u001b[0m\u001b[0;36m0\u001b[0m\u001b[0;34m]\u001b[0m\u001b[0;34m)\u001b[0m\u001b[0;34m:\u001b[0m\u001b[0;34m\u001b[0m\u001b[0;34m\u001b[0m\u001b[0m\n\u001b[0;32m---> 61\u001b[0;31m             \u001b[0moffspring\u001b[0m \u001b[0;34m=\u001b[0m \u001b[0mfunc\u001b[0m\u001b[0;34m(\u001b[0m\u001b[0mpopulation\u001b[0m\u001b[0;34m[\u001b[0m\u001b[0mi\u001b[0m\u001b[0;34m]\u001b[0m\u001b[0;34m,\u001b[0m \u001b[0mpopulation\u001b[0m\u001b[0;34m[\u001b[0m\u001b[0mj\u001b[0m\u001b[0;34m]\u001b[0m\u001b[0;34m)\u001b[0m\u001b[0;34m\u001b[0m\u001b[0;34m\u001b[0m\u001b[0m\n\u001b[0m\u001b[1;32m     62\u001b[0m             \u001b[0mgeneration\u001b[0m\u001b[0;34m[\u001b[0m\u001b[0mk\u001b[0m\u001b[0;34m]\u001b[0m \u001b[0;34m=\u001b[0m \u001b[0moffspring\u001b[0m\u001b[0;34m\u001b[0m\u001b[0;34m\u001b[0m\u001b[0m\n\u001b[1;32m     63\u001b[0m             \u001b[0mk\u001b[0m \u001b[0;34m+=\u001b[0m \u001b[0;36m1\u001b[0m\u001b[0;34m\u001b[0m\u001b[0;34m\u001b[0m\u001b[0m\n",
      "\u001b[0;32m<ipython-input-4-2287ade8a57d>\u001b[0m in \u001b[0;36mPMX\u001b[0;34m(specimen1, specimen2)\u001b[0m\n\u001b[1;32m     14\u001b[0m           \u001b[0;32mbreak\u001b[0m\u001b[0;34m\u001b[0m\u001b[0;34m\u001b[0m\u001b[0m\n\u001b[1;32m     15\u001b[0m \u001b[0;34m\u001b[0m\u001b[0m\n\u001b[0;32m---> 16\u001b[0;31m         \u001b[0;32mif\u001b[0m \u001b[0;34m(\u001b[0m\u001b[0mel\u001b[0m \u001b[0;32mnot\u001b[0m \u001b[0;32min\u001b[0m \u001b[0mspecimen1\u001b[0m\u001b[0;34m[\u001b[0m\u001b[0mindex1\u001b[0m \u001b[0;34m:\u001b[0m \u001b[0mindex2\u001b[0m \u001b[0;34m+\u001b[0m \u001b[0;36m1\u001b[0m\u001b[0;34m]\u001b[0m\u001b[0;34m)\u001b[0m\u001b[0;34m:\u001b[0m\u001b[0;34m\u001b[0m\u001b[0;34m\u001b[0m\u001b[0m\n\u001b[0m\u001b[1;32m     17\u001b[0m             \u001b[0moffspring\u001b[0m\u001b[0;34m[\u001b[0m\u001b[0mk\u001b[0m\u001b[0;34m]\u001b[0m \u001b[0;34m=\u001b[0m \u001b[0mel\u001b[0m\u001b[0;34m\u001b[0m\u001b[0;34m\u001b[0m\u001b[0m\n\u001b[1;32m     18\u001b[0m             \u001b[0mk\u001b[0m \u001b[0;34m+=\u001b[0m \u001b[0;36m1\u001b[0m\u001b[0;34m\u001b[0m\u001b[0;34m\u001b[0m\u001b[0m\n",
      "\u001b[0;32mcupy/core/core.pyx\u001b[0m in \u001b[0;36mgenexpr\u001b[0;34m()\u001b[0m\n",
      "\u001b[0;32mcupy/core/core.pyx\u001b[0m in \u001b[0;36mcupy.core.core.ndarray.__getitem__\u001b[0;34m()\u001b[0m\n",
      "\u001b[0;32mcupy/core/_routines_indexing.pyx\u001b[0m in \u001b[0;36mcupy.core._routines_indexing._ndarray_getitem\u001b[0;34m()\u001b[0m\n",
      "\u001b[0;32mcupy/core/_routines_indexing.pyx\u001b[0m in \u001b[0;36mcupy.core._routines_indexing._simple_getitem\u001b[0;34m()\u001b[0m\n",
      "\u001b[0;32m/usr/local/lib/python3.6/dist-packages/numpy/core/numeric.py\u001b[0m in \u001b[0;36misscalar\u001b[0;34m(element)\u001b[0m\n\u001b[1;32m   1814\u001b[0m \u001b[0;34m\u001b[0m\u001b[0m\n\u001b[1;32m   1815\u001b[0m \u001b[0;34m\u001b[0m\u001b[0m\n\u001b[0;32m-> 1816\u001b[0;31m \u001b[0;34m@\u001b[0m\u001b[0mset_module\u001b[0m\u001b[0;34m(\u001b[0m\u001b[0;34m'numpy'\u001b[0m\u001b[0;34m)\u001b[0m\u001b[0;34m\u001b[0m\u001b[0;34m\u001b[0m\u001b[0m\n\u001b[0m\u001b[1;32m   1817\u001b[0m \u001b[0;32mdef\u001b[0m \u001b[0misscalar\u001b[0m\u001b[0;34m(\u001b[0m\u001b[0melement\u001b[0m\u001b[0;34m)\u001b[0m\u001b[0;34m:\u001b[0m\u001b[0;34m\u001b[0m\u001b[0;34m\u001b[0m\u001b[0m\n\u001b[1;32m   1818\u001b[0m     \"\"\"\n",
      "\u001b[0;31mKeyboardInterrupt\u001b[0m: "
     ]
    }
   ],
   "source": [
    "graph_sizes = map(int, np.linspace(10, 400, 20))\n",
    "iter_count = 100 # количество итераций\n",
    "popul_count = 20 #  размеры популяций\n",
    "times_cupy = np.zeros(20)\n",
    "\n",
    "for k, graph_size in enumerate(graph_sizes):\n",
    "    Graph = getRandomGraph(graph_size)\n",
    "    time_start = time()\n",
    "    indexes = getCycleIndices(Genetic(Graph, iter_count, popul_count))\n",
    "    time_end = time()\n",
    "    times_cupy[k] = time_end - time_start"
   ]
  },
  {
   "cell_type": "code",
   "execution_count": 11,
   "metadata": {
    "id": "GLfhiGTj61eW"
   },
   "outputs": [],
   "source": [
    "np.save('times_cupy.npy', times_cupy)"
   ]
  },
  {
   "cell_type": "code",
   "execution_count": null,
   "metadata": {
    "id": "nBVnh1eBiU1H"
   },
   "outputs": [],
   "source": []
  }
 ],
 "metadata": {
  "accelerator": "GPU",
  "colab": {
   "collapsed_sections": [],
   "name": "EuclideanTSP_cupy.ipynb",
   "provenance": [],
   "toc_visible": true
  },
  "kernelspec": {
   "display_name": "Python 3",
   "language": "python",
   "name": "python3"
  },
  "language_info": {
   "codemirror_mode": {
    "name": "ipython",
    "version": 3
   },
   "file_extension": ".py",
   "mimetype": "text/x-python",
   "name": "python",
   "nbconvert_exporter": "python",
   "pygments_lexer": "ipython3",
   "version": "3.7.4"
  }
 },
 "nbformat": 4,
 "nbformat_minor": 1
}
